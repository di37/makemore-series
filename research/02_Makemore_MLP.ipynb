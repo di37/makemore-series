{
 "cells": [
  {
   "cell_type": "code",
   "execution_count": 2,
   "metadata": {},
   "outputs": [
    {
     "name": "stdout",
     "output_type": "stream",
     "text": [
      "/Users/isham993/Desktop/Programming-Tutorials/2024-Data-Science/makemore-series\n"
     ]
    }
   ],
   "source": [
    "%cd .."
   ]
  },
  {
   "cell_type": "code",
   "execution_count": 3,
   "metadata": {},
   "outputs": [],
   "source": [
    "import torch\n",
    "import torch.nn.functional as F\n",
    "import matplotlib.pyplot as plt\n",
    "\n",
    "%matplotlib inline"
   ]
  },
  {
   "cell_type": "markdown",
   "metadata": {},
   "source": [
    "### Downloading the Dataset"
   ]
  },
  {
   "cell_type": "code",
   "execution_count": 7,
   "metadata": {},
   "outputs": [
    {
     "name": "stdout",
     "output_type": "stream",
     "text": [
      "--2024-06-13 12:33:01--  https://raw.githubusercontent.com/karpathy/makemore/master/names.txt\n",
      "Resolving raw.githubusercontent.com (raw.githubusercontent.com)... 185.199.108.133, 185.199.110.133, 185.199.111.133, ...\n",
      "Connecting to raw.githubusercontent.com (raw.githubusercontent.com)|185.199.108.133|:443... connected.\n",
      "HTTP request sent, awaiting response... 200 OK\n",
      "Length: 228145 (223K) [text/plain]\n",
      "Saving to: ‘data/names.txt’\n",
      "\n",
      "data/names.txt      100%[===================>] 222.80K  --.-KB/s    in 0.02s   \n",
      "\n",
      "2024-06-13 12:33:02 (9.35 MB/s) - ‘data/names.txt’ saved [228145/228145]\n",
      "\n"
     ]
    }
   ],
   "source": [
    "!wget -O data/names.txt https://raw.githubusercontent.com/karpathy/makemore/master/names.txt"
   ]
  },
  {
   "cell_type": "code",
   "execution_count": 4,
   "metadata": {},
   "outputs": [
    {
     "data": {
      "text/plain": [
       "['emma', 'olivia', 'ava', 'isabella', 'sophia', 'charlotte', 'mia', 'amelia']"
      ]
     },
     "execution_count": 4,
     "metadata": {},
     "output_type": "execute_result"
    }
   ],
   "source": [
    "words = open('data/names.txt', 'r').read().splitlines()\n",
    "words[:8]"
   ]
  },
  {
   "cell_type": "code",
   "execution_count": 5,
   "metadata": {},
   "outputs": [
    {
     "data": {
      "text/plain": [
       "32033"
      ]
     },
     "execution_count": 5,
     "metadata": {},
     "output_type": "execute_result"
    }
   ],
   "source": [
    "len(words)"
   ]
  },
  {
   "cell_type": "markdown",
   "metadata": {},
   "source": [
    "### Building Vocabulary of Characters"
   ]
  },
  {
   "cell_type": "code",
   "execution_count": 6,
   "metadata": {},
   "outputs": [],
   "source": [
    "chars = sorted(list(set(''.join(words))))\n",
    "# String to Integer\n",
    "stoi = {s:i+1 for i,s in enumerate(chars)}\n",
    "stoi['.'] = 0\n",
    "# Integer to String\n",
    "itos = {i:s for s,i in stoi.items()}"
   ]
  },
  {
   "cell_type": "code",
   "execution_count": 7,
   "metadata": {},
   "outputs": [
    {
     "name": "stdout",
     "output_type": "stream",
     "text": [
      "String to Integer: {'a': 1, 'b': 2, 'c': 3, 'd': 4, 'e': 5, 'f': 6, 'g': 7, 'h': 8, 'i': 9, 'j': 10, 'k': 11, 'l': 12, 'm': 13, 'n': 14, 'o': 15, 'p': 16, 'q': 17, 'r': 18, 's': 19, 't': 20, 'u': 21, 'v': 22, 'w': 23, 'x': 24, 'y': 25, 'z': 26, '.': 0}\n",
      "\n",
      "Integer to String: {1: 'a', 2: 'b', 3: 'c', 4: 'd', 5: 'e', 6: 'f', 7: 'g', 8: 'h', 9: 'i', 10: 'j', 11: 'k', 12: 'l', 13: 'm', 14: 'n', 15: 'o', 16: 'p', 17: 'q', 18: 'r', 19: 's', 20: 't', 21: 'u', 22: 'v', 23: 'w', 24: 'x', 25: 'y', 26: 'z', 0: '.'}\n"
     ]
    }
   ],
   "source": [
    "print(f\"String to Integer: {stoi}\")\n",
    "print(f\"\\nInteger to String: {itos}\")"
   ]
  },
  {
   "cell_type": "markdown",
   "metadata": {},
   "source": [
    "### Building the Dataset"
   ]
  },
  {
   "cell_type": "code",
   "execution_count": 21,
   "metadata": {},
   "outputs": [
    {
     "name": "stdout",
     "output_type": "stream",
     "text": [
      "emma\n",
      "Context in the form of array: [0, 0, 0] Predicted word in the form of integer as per the context: 5\n",
      "... ---> e\n",
      "Context in the form of array: [0, 0, 5] Predicted word in the form of integer as per the context: 13\n",
      "..e ---> m\n",
      "Context in the form of array: [0, 5, 13] Predicted word in the form of integer as per the context: 13\n",
      ".em ---> m\n",
      "Context in the form of array: [5, 13, 13] Predicted word in the form of integer as per the context: 1\n",
      "emm ---> a\n",
      "Context in the form of array: [13, 13, 1] Predicted word in the form of integer as per the context: 0\n",
      "mma ---> .\n",
      "olivia\n",
      "Context in the form of array: [0, 0, 0] Predicted word in the form of integer as per the context: 15\n",
      "... ---> o\n",
      "Context in the form of array: [0, 0, 15] Predicted word in the form of integer as per the context: 12\n",
      "..o ---> l\n",
      "Context in the form of array: [0, 15, 12] Predicted word in the form of integer as per the context: 9\n",
      ".ol ---> i\n",
      "Context in the form of array: [15, 12, 9] Predicted word in the form of integer as per the context: 22\n",
      "oli ---> v\n",
      "Context in the form of array: [12, 9, 22] Predicted word in the form of integer as per the context: 9\n",
      "liv ---> i\n",
      "Context in the form of array: [9, 22, 9] Predicted word in the form of integer as per the context: 1\n",
      "ivi ---> a\n",
      "Context in the form of array: [22, 9, 1] Predicted word in the form of integer as per the context: 0\n",
      "via ---> .\n",
      "ava\n",
      "Context in the form of array: [0, 0, 0] Predicted word in the form of integer as per the context: 1\n",
      "... ---> a\n",
      "Context in the form of array: [0, 0, 1] Predicted word in the form of integer as per the context: 22\n",
      "..a ---> v\n",
      "Context in the form of array: [0, 1, 22] Predicted word in the form of integer as per the context: 1\n",
      ".av ---> a\n",
      "Context in the form of array: [1, 22, 1] Predicted word in the form of integer as per the context: 0\n",
      "ava ---> .\n",
      "isabella\n",
      "Context in the form of array: [0, 0, 0] Predicted word in the form of integer as per the context: 9\n",
      "... ---> i\n",
      "Context in the form of array: [0, 0, 9] Predicted word in the form of integer as per the context: 19\n",
      "..i ---> s\n",
      "Context in the form of array: [0, 9, 19] Predicted word in the form of integer as per the context: 1\n",
      ".is ---> a\n",
      "Context in the form of array: [9, 19, 1] Predicted word in the form of integer as per the context: 2\n",
      "isa ---> b\n",
      "Context in the form of array: [19, 1, 2] Predicted word in the form of integer as per the context: 5\n",
      "sab ---> e\n",
      "Context in the form of array: [1, 2, 5] Predicted word in the form of integer as per the context: 12\n",
      "abe ---> l\n",
      "Context in the form of array: [2, 5, 12] Predicted word in the form of integer as per the context: 12\n",
      "bel ---> l\n",
      "Context in the form of array: [5, 12, 12] Predicted word in the form of integer as per the context: 1\n",
      "ell ---> a\n",
      "Context in the form of array: [12, 12, 1] Predicted word in the form of integer as per the context: 0\n",
      "lla ---> .\n",
      "sophia\n",
      "Context in the form of array: [0, 0, 0] Predicted word in the form of integer as per the context: 19\n",
      "... ---> s\n",
      "Context in the form of array: [0, 0, 19] Predicted word in the form of integer as per the context: 15\n",
      "..s ---> o\n",
      "Context in the form of array: [0, 19, 15] Predicted word in the form of integer as per the context: 16\n",
      ".so ---> p\n",
      "Context in the form of array: [19, 15, 16] Predicted word in the form of integer as per the context: 8\n",
      "sop ---> h\n",
      "Context in the form of array: [15, 16, 8] Predicted word in the form of integer as per the context: 9\n",
      "oph ---> i\n",
      "Context in the form of array: [16, 8, 9] Predicted word in the form of integer as per the context: 1\n",
      "phi ---> a\n",
      "Context in the form of array: [8, 9, 1] Predicted word in the form of integer as per the context: 0\n",
      "hia ---> .\n"
     ]
    }
   ],
   "source": [
    "block_size = 3           # Context length: How many characters do we take to predict the next one?\n",
    "X, Y = [], []\n",
    "\n",
    "for w in words[:5]:\n",
    "    print(w)\n",
    "    context = [0] * block_size\n",
    "    for ch in w + '.':\n",
    "        ix = stoi[ch]\n",
    "        print(f\"Context in the form of array: {context} Predicted word in the form of integer as per the context: {ix}\")\n",
    "        X.append(context)\n",
    "        Y.append(ix)\n",
    "        print(''.join(itos[i] for i in context), '--->', itos[ix])\n",
    "        context = context[1:] + [ix]\n",
    "\n",
    "X = torch.tensor(X)\n",
    "Y = torch.tensor(Y)"
   ]
  },
  {
   "cell_type": "code",
   "execution_count": 16,
   "metadata": {},
   "outputs": [
    {
     "data": {
      "text/plain": [
       "(torch.Size([32, 3]), torch.int64, torch.Size([32]), torch.int64)"
      ]
     },
     "execution_count": 16,
     "metadata": {},
     "output_type": "execute_result"
    }
   ],
   "source": [
    "X.shape, X.dtype, Y.shape, Y.dtype"
   ]
  },
  {
   "cell_type": "markdown",
   "metadata": {},
   "source": [
    "### Implementing the embedding lookup table"
   ]
  },
  {
   "cell_type": "code",
   "execution_count": null,
   "metadata": {},
   "outputs": [],
   "source": [
    "# In the paper, 17000 words -> 30 dim vector \n",
    "# For this exercise, 27 characters -> 2 dim vector"
   ]
  },
  {
   "cell_type": "code",
   "execution_count": 24,
   "metadata": {},
   "outputs": [],
   "source": [
    "C = torch.rand((27, 2))"
   ]
  },
  {
   "cell_type": "code",
   "execution_count": 36,
   "metadata": {},
   "outputs": [
    {
     "data": {
      "text/plain": [
       "tensor([[0.6809, 0.2489],\n",
       "        [0.0595, 0.2053],\n",
       "        [0.8147, 0.1548],\n",
       "        [0.7012, 0.9861],\n",
       "        [0.7667, 0.4242],\n",
       "        [0.4549, 0.5144],\n",
       "        [0.1092, 0.7333],\n",
       "        [0.6198, 0.0290],\n",
       "        [0.6822, 0.4668],\n",
       "        [0.1605, 0.2746],\n",
       "        [0.7625, 0.0648],\n",
       "        [0.7379, 0.6440],\n",
       "        [0.8288, 0.9990],\n",
       "        [0.7970, 0.4692],\n",
       "        [0.3949, 0.2311],\n",
       "        [0.7596, 0.1429],\n",
       "        [0.5811, 0.1384],\n",
       "        [0.3229, 0.0246],\n",
       "        [0.1150, 0.5461],\n",
       "        [0.2086, 0.3824],\n",
       "        [0.8522, 0.8571],\n",
       "        [0.5150, 0.3885],\n",
       "        [0.4086, 0.1350],\n",
       "        [0.9945, 0.1538],\n",
       "        [0.7248, 0.7710],\n",
       "        [0.3195, 0.4005],\n",
       "        [0.4992, 0.8091]])"
      ]
     },
     "execution_count": 36,
     "metadata": {},
     "output_type": "execute_result"
    }
   ],
   "source": [
    "C"
   ]
  },
  {
   "cell_type": "code",
   "execution_count": 32,
   "metadata": {},
   "outputs": [],
   "source": [
    "one_hot_example = F.one_hot(torch.tensor(5), num_classes=27).float()"
   ]
  },
  {
   "cell_type": "code",
   "execution_count": 35,
   "metadata": {},
   "outputs": [
    {
     "data": {
      "text/plain": [
       "tensor([0., 0., 0., 0., 0., 1., 0., 0., 0., 0., 0., 0., 0., 0., 0., 0., 0., 0.,\n",
       "        0., 0., 0., 0., 0., 0., 0., 0., 0.])"
      ]
     },
     "execution_count": 35,
     "metadata": {},
     "output_type": "execute_result"
    }
   ],
   "source": [
    "one_hot_example"
   ]
  },
  {
   "cell_type": "code",
   "execution_count": 33,
   "metadata": {},
   "outputs": [
    {
     "data": {
      "text/plain": [
       "torch.Size([27])"
      ]
     },
     "execution_count": 33,
     "metadata": {},
     "output_type": "execute_result"
    }
   ],
   "source": [
    "one_hot_example.shape"
   ]
  },
  {
   "cell_type": "code",
   "execution_count": 34,
   "metadata": {},
   "outputs": [
    {
     "data": {
      "text/plain": [
       "torch.Size([27, 2])"
      ]
     },
     "execution_count": 34,
     "metadata": {},
     "output_type": "execute_result"
    }
   ],
   "source": [
    "C.shape"
   ]
  },
  {
   "cell_type": "code",
   "execution_count": 37,
   "metadata": {},
   "outputs": [
    {
     "data": {
      "text/plain": [
       "tensor([0.4549, 0.5144])"
      ]
     },
     "execution_count": 37,
     "metadata": {},
     "output_type": "execute_result"
    }
   ],
   "source": [
    "one_hot_example @ C # Matrix Multiplication"
   ]
  },
  {
   "cell_type": "code",
   "execution_count": 38,
   "metadata": {},
   "outputs": [
    {
     "data": {
      "text/plain": [
       "tensor([0.4549, 0.5144])"
      ]
     },
     "execution_count": 38,
     "metadata": {},
     "output_type": "execute_result"
    }
   ],
   "source": [
    "C[5]"
   ]
  },
  {
   "cell_type": "code",
   "execution_count": 44,
   "metadata": {},
   "outputs": [
    {
     "name": "stdout",
     "output_type": "stream",
     "text": [
      "tensor([[0.4549, 0.5144],\n",
      "        [0.1092, 0.7333],\n",
      "        [0.6198, 0.0290],\n",
      "        [0.6198, 0.0290],\n",
      "        [0.6198, 0.0290]])\n",
      "torch.Size([5, 2])\n"
     ]
    }
   ],
   "source": [
    "matrix = C[[5, 6, 7, 7, 7]]\n",
    "print(matrix)\n",
    "print(matrix.shape)"
   ]
  },
  {
   "cell_type": "code",
   "execution_count": 45,
   "metadata": {},
   "outputs": [
    {
     "data": {
      "text/plain": [
       "torch.Size([32, 3, 2])"
      ]
     },
     "execution_count": 45,
     "metadata": {},
     "output_type": "execute_result"
    }
   ],
   "source": [
    "# We will stick to index than plucking out numbers with one hot encoding as its much more efficient\n",
    "embedding = C[X]\n",
    "embedding.shape"
   ]
  },
  {
   "cell_type": "markdown",
   "metadata": {},
   "source": [
    "### Implementing the Hidden Layer"
   ]
  },
  {
   "cell_type": "code",
   "execution_count": null,
   "metadata": {},
   "outputs": [],
   "source": []
  },
  {
   "cell_type": "code",
   "execution_count": null,
   "metadata": {},
   "outputs": [],
   "source": []
  },
  {
   "cell_type": "code",
   "execution_count": null,
   "metadata": {},
   "outputs": [],
   "source": []
  },
  {
   "cell_type": "code",
   "execution_count": null,
   "metadata": {},
   "outputs": [],
   "source": []
  }
 ],
 "metadata": {
  "kernelspec": {
   "display_name": "Python 3",
   "language": "python",
   "name": "python3"
  },
  "language_info": {
   "codemirror_mode": {
    "name": "ipython",
    "version": 3
   },
   "file_extension": ".py",
   "mimetype": "text/x-python",
   "name": "python",
   "nbconvert_exporter": "python",
   "pygments_lexer": "ipython3",
   "version": "3.11.3"
  }
 },
 "nbformat": 4,
 "nbformat_minor": 2
}
